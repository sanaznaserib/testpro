{
  "nbformat": 4,
  "nbformat_minor": 0,
  "metadata": {
    "colab": {
      "provenance": []
    },
    "kernelspec": {
      "name": "python3",
      "display_name": "Python 3"
    },
    "language_info": {
      "name": "python"
    }
  },
  "cells": [
    {
      "cell_type": "markdown",
      "source": [
        "**question1**"
      ],
      "metadata": {
        "id": "x2bsoUQnQHj7"
      }
    },
    {
      "cell_type": "code",
      "execution_count": null,
      "metadata": {
        "colab": {
          "base_uri": "https://localhost:8080/"
        },
        "id": "SMgCoYTWEDnC",
        "outputId": "31f3d481-d8f5-4237-ae64-8c606ca5558c"
      },
      "outputs": [
        {
          "output_type": "stream",
          "name": "stdout",
          "text": [
            "enter the number of stars: 8\n",
            "[[0. 0. 0. 0. 0. 0. 0. 0.]\n",
            " [0. 0. 0. 0. 0. 0. 0. 0.]\n",
            " [0. 0. 0. 0. 0. 0. 0. 0.]\n",
            " [0. 0. 0. 0. 0. 0. 0. 0.]\n",
            " [0. 0. 0. 0. 0. 0. 0. 0.]\n",
            " [0. 0. 0. 0. 0. 0. 0. 0.]\n",
            " [0. 0. 0. 0. 0. 0. 0. 0.]\n",
            " [0. 0. 0. 0. 0. 0. 0. 0.]]\n",
            "[[1. 1. 1. 1. 1. 1. 1. 1.]\n",
            " [1. 1. 0. 0. 0. 0. 1. 1.]\n",
            " [1. 0. 1. 0. 0. 1. 0. 1.]\n",
            " [1. 0. 0. 1. 1. 0. 0. 1.]\n",
            " [1. 0. 0. 1. 1. 0. 0. 1.]\n",
            " [1. 0. 1. 0. 0. 1. 0. 1.]\n",
            " [1. 1. 0. 0. 0. 0. 1. 1.]\n",
            " [1. 1. 1. 1. 1. 1. 1. 1.]]\n",
            "\n",
            "\n",
            "* * * * * * * * \n",
            "\n",
            "* *         * * \n",
            "\n",
            "*   *     *   * \n",
            "\n",
            "*     * *     * \n",
            "\n",
            "*     * *     * \n",
            "\n",
            "*   *     *   * \n",
            "\n",
            "* *         * * \n",
            "\n",
            "* * * * * * * * "
          ]
        }
      ],
      "source": [
        "import numpy as np\n",
        "n=int(input(\"enter the number of stars: \"))\n",
        "a=np.zeros((n,n))\n",
        "print(a)\n",
        "\n",
        "for i in range(len(a)):\n",
        "  for j in range(len(a)):\n",
        "    if i==j or j==((n-1)-i):\n",
        "      a[i][j]=1\n",
        "    if i==0 or i==(n-1) or j==0 or j==(n-1):\n",
        "      a[i][j]=1\n",
        "print(a)\n",
        "\n",
        "for i in range(len(a)):\n",
        "  print(\"\\n\")\n",
        "  for j in range(len(a)):\n",
        "    if a[i][j]==1:\n",
        "      print('*',end=\" \")\n",
        "    else:\n",
        "      print(\" \",end=\" \")\n"
      ]
    },
    {
      "cell_type": "markdown",
      "source": [
        "Q2.1"
      ],
      "metadata": {
        "id": "4RPIzbXZpIZE"
      }
    },
    {
      "cell_type": "code",
      "source": [
        "import numpy as np\n",
        "import random\n",
        "\n",
        "article = ['the', 'a', 'one', 'some', 'any']\n",
        "noun = ['boy', 'girl', 'dog', 'town', 'car', 'table']\n",
        "verb = ['drove', 'jumped', 'ran', 'walked', 'skipped', 'passed']\n",
        "preposition = ['to', 'from', 'over', 'under', 'on']\n",
        "\n",
        "article=np.array(article)\n",
        "noun=np.array(noun)\n",
        "verb=np.array(verb)\n",
        "preposition=np.array(preposition)\n",
        "\n",
        "m=0\n",
        "while m!=20:\n",
        "  senti=[]\n",
        "  senti.append(article[random.randint(0,int(len(article)-1))])\n",
        "  senti.append(noun[random.randint(0,int(len(noun)-1))])\n",
        "  senti.append(verb[random.randint(0,int(len(verb)-1))])\n",
        "  senti.append(preposition[random.randint(0,int(len(preposition)-1))])\n",
        "  senti.append(article[random.randint(0,int(len(article)-1))])\n",
        "  senti.append(noun[random.randint(0,int(len(noun)-1))])\n",
        "  m +=1\n",
        "  #print(\"\\n\")\n",
        "  for i in range(len(senti)):\n",
        "    if i==0:\n",
        "      f=senti[0]\n",
        "      f=f.replace(f[0],f[0].upper())\n",
        "      print(f,end=' ')\n",
        "      #print(senti[0][0].upper())\n",
        "    elif i==(len(senti)-1):\n",
        "      print(senti[-1]+\".\")\n",
        "    else:\n",
        "      print(senti[i],end=\" \")"
      ],
      "metadata": {
        "colab": {
          "base_uri": "https://localhost:8080/"
        },
        "id": "5S7Mzh43OJGS",
        "outputId": "bf804e76-7838-4425-bd42-27bec76f9e6e"
      },
      "execution_count": null,
      "outputs": [
        {
          "output_type": "stream",
          "name": "stdout",
          "text": [
            "Any boy ran under a town.\n",
            "The dog walked under any car.\n",
            "Any dog jumped over some boy.\n",
            "One car drove under any car.\n",
            "Some town passed over any car.\n",
            "Some boy jumped over any table.\n",
            "One table walked on any girl.\n",
            "A car walked to some car.\n",
            "Some table ran under any boy.\n",
            "The girl walked under the town.\n",
            "Some dog ran under the car.\n",
            "One car passed on a girl.\n",
            "Some boy ran from some car.\n",
            "A car drove under any town.\n",
            "The town jumped to one town.\n",
            "A town skipped from the boy.\n",
            "Some dog skipped under some car.\n",
            "The town drove over any town.\n",
            "One town jumped on a dog.\n",
            "Any car walked on a town.\n"
          ]
        }
      ]
    },
    {
      "cell_type": "markdown",
      "source": [
        "Q2.2"
      ],
      "metadata": {
        "id": "IQL_em_0pLQc"
      }
    },
    {
      "cell_type": "code",
      "source": [
        "import numpy as np\n",
        "import random\n",
        "\n",
        "Q=int(input(\"enter the number of sentences: \"))\n",
        "\n",
        "article = ['the', 'a', 'one', 'some', 'any']\n",
        "noun = ['boy', 'girl', 'dog', 'town', 'car', 'table']\n",
        "verb = ['drove', 'jumped', 'ran', 'walked', 'skipped', 'passed']\n",
        "preposition = ['to', 'from', 'over', 'under', 'on']\n",
        "\n",
        "article=np.array(article)\n",
        "noun=np.array(noun)\n",
        "verb=np.array(verb)\n",
        "preposition=np.array(preposition)\n",
        "print(\"\\n\")\n",
        "m=0\n",
        "while m!=Q:\n",
        "  senti=[]\n",
        "  senti.append(article[random.randint(0,int(len(article)-1))])\n",
        "  senti.append(noun[random.randint(0,int(len(noun)-1))])\n",
        "  senti.append(verb[random.randint(0,int(len(verb)-1))])\n",
        "  senti.append(preposition[random.randint(0,int(len(preposition)-1))])\n",
        "  senti.append(article[random.randint(0,int(len(article)-1))])\n",
        "  senti.append(noun[random.randint(0,int(len(noun)-1))])\n",
        "  m +=1\n",
        "  #print(\"\\n\")\n",
        "  for i in range(len(senti)):\n",
        "    if i==0:\n",
        "      f=senti[0]\n",
        "      f=f.replace(f[0],f[0].upper())\n",
        "      print(f,end=' ')\n",
        "      #print(senti[0][0].upper())\n",
        "    elif i==(len(senti)-1):\n",
        "      if m%2==0:\n",
        "        print(senti[-1]+\"!\",end=\" \")\n",
        "      else:\n",
        "        print(senti[-1]+\".\",end=\" \")\n",
        "\n",
        "    else:\n",
        "      print(senti[i],end=\" \")"
      ],
      "metadata": {
        "colab": {
          "base_uri": "https://localhost:8080/"
        },
        "id": "UftPH0ssoYcj",
        "outputId": "43631829-8c10-43d4-c7f4-261bd88f34bc"
      },
      "execution_count": null,
      "outputs": [
        {
          "output_type": "stream",
          "name": "stdout",
          "text": [
            "enter the number of sentences: 10\n",
            "\n",
            "\n",
            "Any girl skipped on any car. Any boy drove under any boy! A dog passed under any dog. A boy passed on the car! A car passed under a girl. One town jumped on a girl! One town drove over some girl. A car walked on the boy! A table walked to a car. The dog jumped over one dog! "
          ]
        }
      ]
    }
  ]
}